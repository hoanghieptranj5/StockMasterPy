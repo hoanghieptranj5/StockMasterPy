{
 "cells": [
  {
   "metadata": {
    "ExecuteTime": {
     "end_time": "2025-02-17T04:49:22.126574Z",
     "start_time": "2025-02-17T04:49:22.122057Z"
    }
   },
   "cell_type": "code",
   "source": [
    "import pandas as pd\n",
    "import talib"
   ],
   "id": "797dc1dcac604b16",
   "outputs": [],
   "execution_count": 146
  },
  {
   "metadata": {
    "ExecuteTime": {
     "end_time": "2025-02-17T04:49:22.148442Z",
     "start_time": "2025-02-17T04:49:22.135621Z"
    }
   },
   "cell_type": "code",
   "source": [
    "df = pd.read_csv('../StockInvestment/resources/hpg.csv')\n",
    "df['Volume'] = df['Volume'].replace({',': ''}, regex=True).astype(float)\n",
    "df['Date'] = pd.to_datetime(df['Date'], format='%d/%m/%Y')\n",
    "df = df.sort_values(by='Date', ascending=True)\n",
    "df.set_index('Date', inplace=True)\n",
    "df.tail()"
   ],
   "id": "367b7cc09a009f52",
   "outputs": [
    {
     "data": {
      "text/plain": [
       "              Close          Change         Volume     Open     High      Low\n",
       "Date                                                                         \n",
       "2025-02-05 26.80000  -0.05(-0.19 %) 14466500.00000 26.85000 27.00000 26.75000\n",
       "2025-02-06 26.80000       0(0.00 %) 13535000.00000 26.80000 26.95000 26.75000\n",
       "2025-02-07 26.65000  -0.15(-0.56 %) 12547400.00000 26.80000 26.80000 26.60000\n",
       "2025-02-10 25.40000  -1.25(-4.69 %) 61096500.00000 26.50000 26.50000 25.40000\n",
       "2025-02-11 26.10000     0.7(2.76 %) 28896000.00000 25.45000 26.10000 25.45000"
      ],
      "text/html": [
       "<div>\n",
       "<style scoped>\n",
       "    .dataframe tbody tr th:only-of-type {\n",
       "        vertical-align: middle;\n",
       "    }\n",
       "\n",
       "    .dataframe tbody tr th {\n",
       "        vertical-align: top;\n",
       "    }\n",
       "\n",
       "    .dataframe thead th {\n",
       "        text-align: right;\n",
       "    }\n",
       "</style>\n",
       "<table border=\"1\" class=\"dataframe\">\n",
       "  <thead>\n",
       "    <tr style=\"text-align: right;\">\n",
       "      <th></th>\n",
       "      <th>Close</th>\n",
       "      <th>Change</th>\n",
       "      <th>Volume</th>\n",
       "      <th>Open</th>\n",
       "      <th>High</th>\n",
       "      <th>Low</th>\n",
       "    </tr>\n",
       "    <tr>\n",
       "      <th>Date</th>\n",
       "      <th></th>\n",
       "      <th></th>\n",
       "      <th></th>\n",
       "      <th></th>\n",
       "      <th></th>\n",
       "      <th></th>\n",
       "    </tr>\n",
       "  </thead>\n",
       "  <tbody>\n",
       "    <tr>\n",
       "      <th>2025-02-05</th>\n",
       "      <td>26.80000</td>\n",
       "      <td>-0.05(-0.19 %)</td>\n",
       "      <td>14466500.00000</td>\n",
       "      <td>26.85000</td>\n",
       "      <td>27.00000</td>\n",
       "      <td>26.75000</td>\n",
       "    </tr>\n",
       "    <tr>\n",
       "      <th>2025-02-06</th>\n",
       "      <td>26.80000</td>\n",
       "      <td>0(0.00 %)</td>\n",
       "      <td>13535000.00000</td>\n",
       "      <td>26.80000</td>\n",
       "      <td>26.95000</td>\n",
       "      <td>26.75000</td>\n",
       "    </tr>\n",
       "    <tr>\n",
       "      <th>2025-02-07</th>\n",
       "      <td>26.65000</td>\n",
       "      <td>-0.15(-0.56 %)</td>\n",
       "      <td>12547400.00000</td>\n",
       "      <td>26.80000</td>\n",
       "      <td>26.80000</td>\n",
       "      <td>26.60000</td>\n",
       "    </tr>\n",
       "    <tr>\n",
       "      <th>2025-02-10</th>\n",
       "      <td>25.40000</td>\n",
       "      <td>-1.25(-4.69 %)</td>\n",
       "      <td>61096500.00000</td>\n",
       "      <td>26.50000</td>\n",
       "      <td>26.50000</td>\n",
       "      <td>25.40000</td>\n",
       "    </tr>\n",
       "    <tr>\n",
       "      <th>2025-02-11</th>\n",
       "      <td>26.10000</td>\n",
       "      <td>0.7(2.76 %)</td>\n",
       "      <td>28896000.00000</td>\n",
       "      <td>25.45000</td>\n",
       "      <td>26.10000</td>\n",
       "      <td>25.45000</td>\n",
       "    </tr>\n",
       "  </tbody>\n",
       "</table>\n",
       "</div>"
      ]
     },
     "execution_count": 147,
     "metadata": {},
     "output_type": "execute_result"
    }
   ],
   "execution_count": 147
  },
  {
   "metadata": {
    "ExecuteTime": {
     "end_time": "2025-02-17T04:49:22.195733Z",
     "start_time": "2025-02-17T04:49:22.191289Z"
    }
   },
   "cell_type": "code",
   "source": [
    "# Calculate the Moving Averages\n",
    "df['SMA9'] = talib.SMA(df['Close'], timeperiod=9)\n",
    "df['SMA50'] = talib.SMA(df['Close'], timeperiod=50)\n",
    "# df['SMA200'] = talib.SMA(df['Close'], timeperiod=200)\n",
    "# Calculate MACD (Moving Average Convergence Divergence)\n",
    "macd, macdsignal, macdhist = talib.MACD(df['Close'], fastperiod=12, slowperiod=26, signalperiod=9)\n",
    "df['MACD'] = macd\n",
    "df['MACD Signal'] = macdsignal\n",
    "df['MACD Histogram'] = macdhist\n",
    "\n",
    "# Calculate RSI (Relative Strength Index)\n",
    "df['RSI'] = talib.RSI(df['Close'], timeperiod=14)\n",
    "df['Volume_SMA'] = df['Volume'].rolling(window=50).mean()\n",
    "\n",
    "df = df.dropna()\n"
   ],
   "id": "47288fbd7dcc56b2",
   "outputs": [],
   "execution_count": 148
  },
  {
   "metadata": {
    "ExecuteTime": {
     "end_time": "2025-02-17T04:49:22.222869Z",
     "start_time": "2025-02-17T04:49:22.218062Z"
    }
   },
   "cell_type": "code",
   "source": "df.info()",
   "id": "33c0c0e95e18162a",
   "outputs": [
    {
     "name": "stdout",
     "output_type": "stream",
     "text": [
      "<class 'pandas.core.frame.DataFrame'>\n",
      "DatetimeIndex: 491 entries, 2023-02-23 to 2025-02-11\n",
      "Data columns (total 13 columns):\n",
      " #   Column          Non-Null Count  Dtype  \n",
      "---  ------          --------------  -----  \n",
      " 0   Close           491 non-null    float64\n",
      " 1   Change          491 non-null    object \n",
      " 2   Volume          491 non-null    float64\n",
      " 3   Open            491 non-null    float64\n",
      " 4   High            491 non-null    float64\n",
      " 5   Low             491 non-null    float64\n",
      " 6   SMA9            491 non-null    float64\n",
      " 7   SMA50           491 non-null    float64\n",
      " 8   MACD            491 non-null    float64\n",
      " 9   MACD Signal     491 non-null    float64\n",
      " 10  MACD Histogram  491 non-null    float64\n",
      " 11  RSI             491 non-null    float64\n",
      " 12  Volume_SMA      491 non-null    float64\n",
      "dtypes: float64(12), object(1)\n",
      "memory usage: 53.7+ KB\n"
     ]
    }
   ],
   "execution_count": 149
  },
  {
   "metadata": {
    "ExecuteTime": {
     "end_time": "2025-02-17T04:49:22.248637Z",
     "start_time": "2025-02-17T04:49:22.243284Z"
    }
   },
   "cell_type": "code",
   "source": [
    "from sklearn.preprocessing import MinMaxScaler\n",
    "\n",
    "# Select relevant features for prediction\n",
    "features = ['Close', 'SMA9', 'SMA50', 'RSI', 'MACD', 'MACD Signal', 'Volume', 'Volume_SMA']\n",
    "\n",
    "# Apply MinMaxScaler to normalize the data\n",
    "scaler = MinMaxScaler(feature_range=(0, 1))\n",
    "scaled_data = scaler.fit_transform(df[features])\n",
    "\n",
    "# Convert the scaled data back to a DataFrame\n",
    "scaled_data = pd.DataFrame(scaled_data, columns=features, index=df.index)\n",
    "\n",
    "# Split the data into training and testing sets (80% train, 20% test)\n",
    "train_size = int(len(scaled_data) * 0.8)\n",
    "train_data = scaled_data[:train_size]\n",
    "test_data = scaled_data[train_size:]"
   ],
   "id": "719f698a0bbf298a",
   "outputs": [],
   "execution_count": 150
  },
  {
   "metadata": {
    "ExecuteTime": {
     "end_time": "2025-02-17T04:49:22.304339Z",
     "start_time": "2025-02-17T04:49:22.286216Z"
    }
   },
   "cell_type": "code",
   "source": [
    "import numpy as np\n",
    "\n",
    "def create_dataset(data, time_step=60):\n",
    "    X, y = [], []\n",
    "    for i in range(len(data) - time_step - 1):\n",
    "        X.append(data[i:(i + time_step)])\n",
    "        y.append(data.iloc[i + time_step]['Close'])  # Target is the 'Close' price\n",
    "    return np.array(X), np.array(y)\n",
    "\n",
    "\n",
    "# Create training sequences\n",
    "time_step = 30  # Use the past 60 days of data to predict the next price\n",
    "X_train, y_train = create_dataset(train_data, time_step)\n",
    "X_test, y_test = create_dataset(test_data, time_step)\n",
    "\n",
    "# Reshape data for LSTM: (samples, time_steps, features)\n",
    "X_train = X_train.reshape(X_train.shape[0], X_train.shape[1], X_train.shape[2])\n",
    "X_test = X_test.reshape(X_test.shape[0], X_test.shape[1], X_test.shape[2])\n"
   ],
   "id": "ede9a1750ae08aba",
   "outputs": [],
   "execution_count": 151
  },
  {
   "metadata": {
    "ExecuteTime": {
     "end_time": "2025-02-17T04:49:24.781076Z",
     "start_time": "2025-02-17T04:49:22.306671Z"
    }
   },
   "cell_type": "code",
   "source": [
    "from keras.src.optimizers import Adam\n",
    "from keras import Sequential\n",
    "from keras.api.layers import LSTM, Dense, Dropout\n",
    "\n",
    "# Define the LSTM model\n",
    "model = Sequential()\n",
    "\n",
    "# Add LSTM layer\n",
    "model.add(LSTM(units=50, return_sequences=True, input_shape=(X_train.shape[1], X_train.shape[2])))\n",
    "model.add(Dropout(0.2))  # Dropout layer for regularization\n",
    "\n",
    "model.add(LSTM(units=50, return_sequences=False))\n",
    "model.add(Dropout(0.2))\n",
    "\n",
    "# Add output layer\n",
    "model.add(Dense(units=1))  # Predicting a single value (next day's 'Close' price)\n",
    "\n",
    "optimizer = Adam(learning_rate=0.01)\n",
    "# Compile the model\n",
    "model.compile(optimizer=optimizer, loss='mean_squared_error')\n",
    "\n",
    "# Train the model\n",
    "model.fit(X_train, y_train, epochs=20, batch_size=32)\n"
   ],
   "id": "bcfbb47a5dab806f",
   "outputs": [
    {
     "name": "stdout",
     "output_type": "stream",
     "text": [
      "Epoch 1/20\n"
     ]
    },
    {
     "name": "stderr",
     "output_type": "stream",
     "text": [
      "/Users/hieptran/miniconda3/envs/MachineLearning/lib/python3.12/site-packages/keras/src/layers/rnn/rnn.py:204: UserWarning: Do not pass an `input_shape`/`input_dim` argument to a layer. When using Sequential models, prefer using an `Input(shape)` object as the first layer in the model instead.\n",
      "  super().__init__(**kwargs)\n"
     ]
    },
    {
     "name": "stdout",
     "output_type": "stream",
     "text": [
      "\u001B[1m12/12\u001B[0m \u001B[32m━━━━━━━━━━━━━━━━━━━━\u001B[0m\u001B[37m\u001B[0m \u001B[1m1s\u001B[0m 6ms/step - loss: 0.4783\n",
      "Epoch 2/20\n",
      "\u001B[1m12/12\u001B[0m \u001B[32m━━━━━━━━━━━━━━━━━━━━\u001B[0m\u001B[37m\u001B[0m \u001B[1m0s\u001B[0m 5ms/step - loss: 0.0330\n",
      "Epoch 3/20\n",
      "\u001B[1m12/12\u001B[0m \u001B[32m━━━━━━━━━━━━━━━━━━━━\u001B[0m\u001B[37m\u001B[0m \u001B[1m0s\u001B[0m 5ms/step - loss: 0.0180\n",
      "Epoch 4/20\n",
      "\u001B[1m12/12\u001B[0m \u001B[32m━━━━━━━━━━━━━━━━━━━━\u001B[0m\u001B[37m\u001B[0m \u001B[1m0s\u001B[0m 5ms/step - loss: 0.0129\n",
      "Epoch 5/20\n",
      "\u001B[1m12/12\u001B[0m \u001B[32m━━━━━━━━━━━━━━━━━━━━\u001B[0m\u001B[37m\u001B[0m \u001B[1m0s\u001B[0m 5ms/step - loss: 0.0123\n",
      "Epoch 6/20\n",
      "\u001B[1m12/12\u001B[0m \u001B[32m━━━━━━━━━━━━━━━━━━━━\u001B[0m\u001B[37m\u001B[0m \u001B[1m0s\u001B[0m 6ms/step - loss: 0.0098\n",
      "Epoch 7/20\n",
      "\u001B[1m12/12\u001B[0m \u001B[32m━━━━━━━━━━━━━━━━━━━━\u001B[0m\u001B[37m\u001B[0m \u001B[1m0s\u001B[0m 6ms/step - loss: 0.0098\n",
      "Epoch 8/20\n",
      "\u001B[1m12/12\u001B[0m \u001B[32m━━━━━━━━━━━━━━━━━━━━\u001B[0m\u001B[37m\u001B[0m \u001B[1m0s\u001B[0m 6ms/step - loss: 0.0102\n",
      "Epoch 9/20\n",
      "\u001B[1m12/12\u001B[0m \u001B[32m━━━━━━━━━━━━━━━━━━━━\u001B[0m\u001B[37m\u001B[0m \u001B[1m0s\u001B[0m 6ms/step - loss: 0.0087\n",
      "Epoch 10/20\n",
      "\u001B[1m12/12\u001B[0m \u001B[32m━━━━━━━━━━━━━━━━━━━━\u001B[0m\u001B[37m\u001B[0m \u001B[1m0s\u001B[0m 6ms/step - loss: 0.0089\n",
      "Epoch 11/20\n",
      "\u001B[1m12/12\u001B[0m \u001B[32m━━━━━━━━━━━━━━━━━━━━\u001B[0m\u001B[37m\u001B[0m \u001B[1m0s\u001B[0m 6ms/step - loss: 0.0086\n",
      "Epoch 12/20\n",
      "\u001B[1m12/12\u001B[0m \u001B[32m━━━━━━━━━━━━━━━━━━━━\u001B[0m\u001B[37m\u001B[0m \u001B[1m0s\u001B[0m 7ms/step - loss: 0.0077\n",
      "Epoch 13/20\n",
      "\u001B[1m12/12\u001B[0m \u001B[32m━━━━━━━━━━━━━━━━━━━━\u001B[0m\u001B[37m\u001B[0m \u001B[1m0s\u001B[0m 6ms/step - loss: 0.0057\n",
      "Epoch 14/20\n",
      "\u001B[1m12/12\u001B[0m \u001B[32m━━━━━━━━━━━━━━━━━━━━\u001B[0m\u001B[37m\u001B[0m \u001B[1m0s\u001B[0m 6ms/step - loss: 0.0068\n",
      "Epoch 15/20\n",
      "\u001B[1m12/12\u001B[0m \u001B[32m━━━━━━━━━━━━━━━━━━━━\u001B[0m\u001B[37m\u001B[0m \u001B[1m0s\u001B[0m 7ms/step - loss: 0.0061\n",
      "Epoch 16/20\n",
      "\u001B[1m12/12\u001B[0m \u001B[32m━━━━━━━━━━━━━━━━━━━━\u001B[0m\u001B[37m\u001B[0m \u001B[1m0s\u001B[0m 6ms/step - loss: 0.0065\n",
      "Epoch 17/20\n",
      "\u001B[1m12/12\u001B[0m \u001B[32m━━━━━━━━━━━━━━━━━━━━\u001B[0m\u001B[37m\u001B[0m \u001B[1m0s\u001B[0m 6ms/step - loss: 0.0059\n",
      "Epoch 18/20\n",
      "\u001B[1m12/12\u001B[0m \u001B[32m━━━━━━━━━━━━━━━━━━━━\u001B[0m\u001B[37m\u001B[0m \u001B[1m0s\u001B[0m 6ms/step - loss: 0.0049\n",
      "Epoch 19/20\n",
      "\u001B[1m12/12\u001B[0m \u001B[32m━━━━━━━━━━━━━━━━━━━━\u001B[0m\u001B[37m\u001B[0m \u001B[1m0s\u001B[0m 7ms/step - loss: 0.0067\n",
      "Epoch 20/20\n",
      "\u001B[1m12/12\u001B[0m \u001B[32m━━━━━━━━━━━━━━━━━━━━\u001B[0m\u001B[37m\u001B[0m \u001B[1m0s\u001B[0m 6ms/step - loss: 0.0061\n"
     ]
    },
    {
     "data": {
      "text/plain": [
       "<keras.src.callbacks.history.History at 0x315a95130>"
      ]
     },
     "execution_count": 152,
     "metadata": {},
     "output_type": "execute_result"
    }
   ],
   "execution_count": 152
  },
  {
   "metadata": {
    "ExecuteTime": {
     "end_time": "2025-02-17T04:49:24.988965Z",
     "start_time": "2025-02-17T04:49:24.799754Z"
    }
   },
   "cell_type": "code",
   "source": [
    "from sklearn.metrics import mean_squared_error\n",
    "# Assuming the LSTM model is already defined and trained (as shown in previous answers)\n",
    "# Here we make predictions on the test data\n",
    "predicted_prices = model.predict(X_test)\n",
    "\n",
    "# Step 5: Inverse transform the predictions and actual prices\n",
    "# Reshape predictions and actual prices to match the expected format for inverse transformation\n",
    "predicted_prices = predicted_prices.reshape(-1, 1)  # 1D prediction reshaped to 2D\n",
    "actual_prices = y_test.reshape(-1, 1)  # Same reshaping for actual prices\n",
    "\n",
    "# Step 6: Evaluate the model (e.g., using Mean Squared Error)\n",
    "mse = mean_squared_error(actual_prices, predicted_prices)\n",
    "print(f'Mean Squared Error (MSE): {mse}')\n",
    "\n",
    "# Optionally: Print the first few predicted vs actual prices to inspect\n",
    "print(\"Predicted Prices:\", predicted_prices[-10:])\n",
    "print(\"Actual Prices:\", actual_prices[-10:])\n",
    "\n",
    "\n"
   ],
   "id": "c50d2660fc25b34a",
   "outputs": [
    {
     "name": "stdout",
     "output_type": "stream",
     "text": [
      "\u001B[1m3/3\u001B[0m \u001B[32m━━━━━━━━━━━━━━━━━━━━\u001B[0m\u001B[37m\u001B[0m \u001B[1m0s\u001B[0m 45ms/step\n",
      "Mean Squared Error (MSE): 0.0016400115014519115\n",
      "Predicted Prices: [[0.53069866]\n",
      " [0.544783  ]\n",
      " [0.5514636 ]\n",
      " [0.5500735 ]\n",
      " [0.55564326]\n",
      " [0.5624932 ]\n",
      " [0.573589  ]\n",
      " [0.5836574 ]\n",
      " [0.5915288 ]\n",
      " [0.5930327 ]]\n",
      "Actual Prices: [[0.5375    ]\n",
      " [0.525     ]\n",
      " [0.5125    ]\n",
      " [0.55416667]\n",
      " [0.54583333]\n",
      " [0.57083333]\n",
      " [0.56666667]\n",
      " [0.56666667]\n",
      " [0.55416667]\n",
      " [0.45      ]]\n"
     ]
    }
   ],
   "execution_count": 153
  },
  {
   "metadata": {
    "ExecuteTime": {
     "end_time": "2025-02-17T04:49:25.062618Z",
     "start_time": "2025-02-17T04:49:25.007970Z"
    }
   },
   "cell_type": "code",
   "source": [
    "import matplotlib.pyplot as plt\n",
    "\n",
    "# Step 1: Inverse transform the predictions and actual prices (if not already done)\n",
    "# If you haven't inverse transformed, you should apply it here like before\n",
    "# predicted_prices = scaler.inverse_transform(predicted_prices)\n",
    "# actual_prices = scaler.inverse_transform(actual_prices)\n",
    "\n",
    "# Step 2: Create the plot\n",
    "plt.figure(figsize=(10, 6))\n",
    "\n",
    "# Plot actual prices\n",
    "plt.plot(actual_prices, color='blue', label='Actual Prices')\n",
    "\n",
    "# Plot predicted prices\n",
    "plt.plot(predicted_prices, color='red', label='Predicted Prices')\n",
    "\n",
    "# Add labels and title\n",
    "plt.title('Stock Price Prediction: Actual vs Predicted')\n",
    "plt.xlabel('Time')\n",
    "plt.ylabel('Price')\n",
    "plt.legend()\n",
    "\n",
    "# Display the plot\n",
    "plt.show()\n"
   ],
   "id": "60387888aa04fa1",
   "outputs": [
    {
     "data": {
      "text/plain": [
       "<Figure size 1000x600 with 1 Axes>"
      ],
      "image/png": "[encoded data removed]"
     },
     "metadata": {},
     "output_type": "display_data"
    }
   ],
   "execution_count": 154
  },
  {
   "metadata": {
    "ExecuteTime": {
     "end_time": "2025-02-17T04:49:25.708998Z",
     "start_time": "2025-02-17T04:49:25.083434Z"
    }
   },
   "cell_type": "code",
   "source": [
    "# Step 1: Prepare the most recent data\n",
    "# We will use the last 90 days (or more) of stock data to start predictions for the next 30 days\n",
    "new_data = df.iloc[-90:]  # Take the last 90 days of data\n",
    "\n",
    "# Calculate the technical indicators for the new data\n",
    "new_data['SMA9'] = talib.SMA(new_data['Close'], timeperiod=9)\n",
    "new_data['SMA50'] = talib.SMA(new_data['Close'], timeperiod=50)\n",
    "macd, macdsignal, macdhist = talib.MACD(new_data['Close'], fastperiod=12, slowperiod=26, signalperiod=9)\n",
    "new_data['MACD'] = macd\n",
    "new_data['MACD Signal'] = macdsignal\n",
    "new_data['MACD Histogram'] = macdhist\n",
    "new_data['RSI'] = talib.RSI(new_data['Close'], timeperiod=14)\n",
    "new_data['Volume_SMA'] = new_data['Volume'].rolling(window=50).mean()\n",
    "\n",
    "# Ensure the new data is scaled in the same way as the training data\n",
    "features = ['Close', 'SMA9', 'SMA50', 'RSI', 'MACD', 'MACD Signal', 'Volume', 'Volume_SMA']\n",
    "scaled_new_data = scaler.transform(new_data[features])\n",
    "\n",
    "# Step 2: Prepare a list to hold the predicted prices\n",
    "predicted_prices = []\n",
    "\n",
    "# Step 3: Loop to predict the next 30 days\n",
    "for _ in range(30):\n",
    "    # Use the last `time_step` days to predict the next day's price\n",
    "    sequence = scaled_new_data[-time_step:].reshape(1, time_step, len(features))  # Reshape for LSTM\n",
    "\n",
    "    # Make the prediction\n",
    "    predicted_scaled_price = model.predict(sequence)  # Predict the next day's closing price\n",
    "\n",
    "    # Inverse scale the prediction to get the actual price\n",
    "    predicted_price = scaler.inverse_transform(\n",
    "        np.hstack((predicted_scaled_price, np.zeros((predicted_scaled_price.shape[0], len(features) - 1))))\n",
    "    )[:, 0]\n",
    "\n",
    "    # Append the predicted price to the list of predictions\n",
    "    predicted_prices.append(predicted_price[0])\n",
    "\n",
    "    # Update `new_data` with the predicted value (to use it for predicting the next day)\n",
    "    # Create a new row with the predicted 'Close' value\n",
    "    new_row = new_data.iloc[-1].copy()\n",
    "    new_row['Close'] = predicted_price[0]  # Set the predicted closing price\n",
    "\n",
    "    # Concatenate the new row to the dataframe\n",
    "    new_data = pd.concat([new_data, pd.DataFrame([new_row])], ignore_index=True)\n",
    "\n",
    "    # Recalculate the technical indicators for the new row with the predicted price\n",
    "    new_data['SMA9'] = talib.SMA(new_data['Close'], timeperiod=9)\n",
    "    new_data['SMA50'] = talib.SMA(new_data['Close'], timeperiod=50)\n",
    "    macd, macdsignal, macdhist = talib.MACD(new_data['Close'], fastperiod=12, slowperiod=26, signalperiod=9)\n",
    "    new_data['MACD'] = macd\n",
    "    new_data['MACD Signal'] = macdsignal\n",
    "    new_data['MACD Histogram'] = macdhist\n",
    "    new_data['RSI'] = talib.RSI(new_data['Close'], timeperiod=14)\n",
    "    new_data['Volume_SMA'] = new_data['Volume'].rolling(window=50).mean()\n",
    "\n",
    "    # Scale the new data again\n",
    "    scaled_new_data = scaler.transform(new_data[features])\n",
    "\n",
    "# Step 4: Print the predicted prices for the next 30 days\n",
    "print(\"Predicted prices for the next 30 days:\", predicted_prices)\n"
   ],
   "id": "3dc871e8d15d8ccb",
   "outputs": [
    {
     "name": "stdout",
     "output_type": "stream",
     "text": [
      "\u001B[1m1/1\u001B[0m \u001B[32m━━━━━━━━━━━━━━━━━━━━\u001B[0m\u001B[37m\u001B[0m \u001B[1m0s\u001B[0m 8ms/step\n",
      "\u001B[1m1/1\u001B[0m \u001B[32m━━━━━━━━━━━━━━━━━━━━\u001B[0m\u001B[37m\u001B[0m \u001B[1m0s\u001B[0m 8ms/step\n",
      "\u001B[1m1/1\u001B[0m \u001B[32m━━━━━━━━━━━━━━━━━━━━\u001B[0m\u001B[37m\u001B[0m \u001B[1m0s\u001B[0m 6ms/step\n",
      "\u001B[1m1/1\u001B[0m \u001B[32m━━━━━━━━━━━━━━━━━━━━\u001B[0m\u001B[37m\u001B[0m \u001B[1m0s\u001B[0m 6ms/step\n",
      "\u001B[1m1/1\u001B[0m \u001B[32m━━━━━━━━━━━━━━━━━━━━\u001B[0m\u001B[37m\u001B[0m \u001B[1m0s\u001B[0m 6ms/step\n",
      "\u001B[1m1/1\u001B[0m \u001B[32m━━━━━━━━━━━━━━━━━━━━\u001B[0m\u001B[37m\u001B[0m \u001B[1m0s\u001B[0m 6ms/step\n",
      "\u001B[1m1/1\u001B[0m \u001B[32m━━━━━━━━━━━━━━━━━━━━\u001B[0m\u001B[37m\u001B[0m \u001B[1m0s\u001B[0m 6ms/step\n",
      "\u001B[1m1/1\u001B[0m \u001B[32m━━━━━━━━━━━━━━━━━━━━\u001B[0m\u001B[37m\u001B[0m \u001B[1m0s\u001B[0m 6ms/step\n",
      "\u001B[1m1/1\u001B[0m \u001B[32m━━━━━━━━━━━━━━━━━━━━\u001B[0m\u001B[37m\u001B[0m \u001B[1m0s\u001B[0m 6ms/step\n"
     ]
    },
    {
     "name": "stderr",
     "output_type": "stream",
     "text": [
      "/var/folders/nq/p8zxmj752vvfbnx9mc5s2pc00000gp/T/ipykernel_14475/3416549207.py:6: SettingWithCopyWarning: \n",
      "A value is trying to be set on a copy of a slice from a DataFrame.\n",
      "Try using .loc[row_indexer,col_indexer] = value instead\n",
      "\n",
      "See the caveats in the documentation: https://pandas.pydata.org/pandas-docs/stable/user_guide/indexing.html#returning-a-view-versus-a-copy\n",
      "  new_data['SMA9'] = talib.SMA(new_data['Close'], timeperiod=9)\n",
      "/var/folders/nq/p8zxmj752vvfbnx9mc5s2pc00000gp/T/ipykernel_14475/3416549207.py:7: SettingWithCopyWarning: \n",
      "A value is trying to be set on a copy of a slice from a DataFrame.\n",
      "Try using .loc[row_indexer,col_indexer] = value instead\n",
      "\n",
      "See the caveats in the documentation: https://pandas.pydata.org/pandas-docs/stable/user_guide/indexing.html#returning-a-view-versus-a-copy\n",
      "  new_data['SMA50'] = talib.SMA(new_data['Close'], timeperiod=50)\n",
      "/var/folders/nq/p8zxmj752vvfbnx9mc5s2pc00000gp/T/ipykernel_14475/3416549207.py:9: SettingWithCopyWarning: \n",
      "A value is trying to be set on a copy of a slice from a DataFrame.\n",
      "Try using .loc[row_indexer,col_indexer] = value instead\n",
      "\n",
      "See the caveats in the documentation: https://pandas.pydata.org/pandas-docs/stable/user_guide/indexing.html#returning-a-view-versus-a-copy\n",
      "  new_data['MACD'] = macd\n",
      "/var/folders/nq/p8zxmj752vvfbnx9mc5s2pc00000gp/T/ipykernel_14475/3416549207.py:10: SettingWithCopyWarning: \n",
      "A value is trying to be set on a copy of a slice from a DataFrame.\n",
      "Try using .loc[row_indexer,col_indexer] = value instead\n",
      "\n",
      "See the caveats in the documentation: https://pandas.pydata.org/pandas-docs/stable/user_guide/indexing.html#returning-a-view-versus-a-copy\n",
      "  new_data['MACD Signal'] = macdsignal\n",
      "/var/folders/nq/p8zxmj752vvfbnx9mc5s2pc00000gp/T/ipykernel_14475/3416549207.py:11: SettingWithCopyWarning: \n",
      "A value is trying to be set on a copy of a slice from a DataFrame.\n",
      "Try using .loc[row_indexer,col_indexer] = value instead\n",
      "\n",
      "See the caveats in the documentation: https://pandas.pydata.org/pandas-docs/stable/user_guide/indexing.html#returning-a-view-versus-a-copy\n",
      "  new_data['MACD Histogram'] = macdhist\n",
      "/var/folders/nq/p8zxmj752vvfbnx9mc5s2pc00000gp/T/ipykernel_14475/3416549207.py:12: SettingWithCopyWarning: \n",
      "A value is trying to be set on a copy of a slice from a DataFrame.\n",
      "Try using .loc[row_indexer,col_indexer] = value instead\n",
      "\n",
      "See the caveats in the documentation: https://pandas.pydata.org/pandas-docs/stable/user_guide/indexing.html#returning-a-view-versus-a-copy\n",
      "  new_data['RSI'] = talib.RSI(new_data['Close'], timeperiod=14)\n",
      "/var/folders/nq/p8zxmj752vvfbnx9mc5s2pc00000gp/T/ipykernel_14475/3416549207.py:13: SettingWithCopyWarning: \n",
      "A value is trying to be set on a copy of a slice from a DataFrame.\n",
      "Try using .loc[row_indexer,col_indexer] = value instead\n",
      "\n",
      "See the caveats in the documentation: https://pandas.pydata.org/pandas-docs/stable/user_guide/indexing.html#returning-a-view-versus-a-copy\n",
      "  new_data['Volume_SMA'] = new_data['Volume'].rolling(window=50).mean()\n"
     ]
    },
    {
     "name": "stdout",
     "output_type": "stream",
     "text": [
      "\u001B[1m1/1\u001B[0m \u001B[32m━━━━━━━━━━━━━━━━━━━━\u001B[0m\u001B[37m\u001B[0m \u001B[1m0s\u001B[0m 7ms/step\n",
      "\u001B[1m1/1\u001B[0m \u001B[32m━━━━━━━━━━━━━━━━━━━━\u001B[0m\u001B[37m\u001B[0m \u001B[1m0s\u001B[0m 6ms/step\n",
      "\u001B[1m1/1\u001B[0m \u001B[32m━━━━━━━━━━━━━━━━━━━━\u001B[0m\u001B[37m\u001B[0m \u001B[1m0s\u001B[0m 6ms/step\n",
      "\u001B[1m1/1\u001B[0m \u001B[32m━━━━━━━━━━━━━━━━━━━━\u001B[0m\u001B[37m\u001B[0m \u001B[1m0s\u001B[0m 6ms/step\n",
      "\u001B[1m1/1\u001B[0m \u001B[32m━━━━━━━━━━━━━━━━━━━━\u001B[0m\u001B[37m\u001B[0m \u001B[1m0s\u001B[0m 5ms/step\n",
      "\u001B[1m1/1\u001B[0m \u001B[32m━━━━━━━━━━━━━━━━━━━━\u001B[0m\u001B[37m\u001B[0m \u001B[1m0s\u001B[0m 5ms/step\n",
      "\u001B[1m1/1\u001B[0m \u001B[32m━━━━━━━━━━━━━━━━━━━━\u001B[0m\u001B[37m\u001B[0m \u001B[1m0s\u001B[0m 6ms/step\n",
      "\u001B[1m1/1\u001B[0m \u001B[32m━━━━━━━━━━━━━━━━━━━━\u001B[0m\u001B[37m\u001B[0m \u001B[1m0s\u001B[0m 6ms/step\n",
      "\u001B[1m1/1\u001B[0m \u001B[32m━━━━━━━━━━━━━━━━━━━━\u001B[0m\u001B[37m\u001B[0m \u001B[1m0s\u001B[0m 5ms/step\n",
      "\u001B[1m1/1\u001B[0m \u001B[32m━━━━━━━━━━━━━━━━━━━━\u001B[0m\u001B[37m\u001B[0m \u001B[1m0s\u001B[0m 6ms/step\n",
      "\u001B[1m1/1\u001B[0m \u001B[32m━━━━━━━━━━━━━━━━━━━━\u001B[0m\u001B[37m\u001B[0m \u001B[1m0s\u001B[0m 5ms/step\n",
      "\u001B[1m1/1\u001B[0m \u001B[32m━━━━━━━━━━━━━━━━━━━━\u001B[0m\u001B[37m\u001B[0m \u001B[1m0s\u001B[0m 5ms/step\n",
      "\u001B[1m1/1\u001B[0m \u001B[32m━━━━━━━━━━━━━━━━━━━━\u001B[0m\u001B[37m\u001B[0m \u001B[1m0s\u001B[0m 5ms/step\n",
      "\u001B[1m1/1\u001B[0m \u001B[32m━━━━━━━━━━━━━━━━━━━━\u001B[0m\u001B[37m\u001B[0m \u001B[1m0s\u001B[0m 6ms/step\n",
      "\u001B[1m1/1\u001B[0m \u001B[32m━━━━━━━━━━━━━━━━━━━━\u001B[0m\u001B[37m\u001B[0m \u001B[1m0s\u001B[0m 6ms/step\n",
      "\u001B[1m1/1\u001B[0m \u001B[32m━━━━━━━━━━━━━━━━━━━━\u001B[0m\u001B[37m\u001B[0m \u001B[1m0s\u001B[0m 6ms/step\n",
      "\u001B[1m1/1\u001B[0m \u001B[32m━━━━━━━━━━━━━━━━━━━━\u001B[0m\u001B[37m\u001B[0m \u001B[1m0s\u001B[0m 7ms/step\n",
      "\u001B[1m1/1\u001B[0m \u001B[32m━━━━━━━━━━━━━━━━━━━━\u001B[0m\u001B[37m\u001B[0m \u001B[1m0s\u001B[0m 6ms/step\n",
      "\u001B[1m1/1\u001B[0m \u001B[32m━━━━━━━━━━━━━━━━━━━━\u001B[0m\u001B[37m\u001B[0m \u001B[1m0s\u001B[0m 7ms/step\n",
      "\u001B[1m1/1\u001B[0m \u001B[32m━━━━━━━━━━━━━━━━━━━━\u001B[0m\u001B[37m\u001B[0m \u001B[1m0s\u001B[0m 6ms/step\n",
      "\u001B[1m1/1\u001B[0m \u001B[32m━━━━━━━━━━━━━━━━━━━━\u001B[0m\u001B[37m\u001B[0m \u001B[1m0s\u001B[0m 6ms/step\n",
      "Predicted prices for the next 30 days: [np.float64(26.446775913238525), np.float64(26.345604419708252), np.float64(26.31610655784607), np.float64(26.311212062835693), np.float64(26.308927536010742), np.float64(26.301915168762207), np.float64(26.28576898574829), np.float64(26.257710933685303), np.float64(26.22894835472107), np.float64(26.19302463531494), np.float64(26.144599676132202), np.float64(26.085922956466675), np.float64(26.0089750289917), np.float64(25.910974621772766), np.float64(25.78679084777832), np.float64(25.632500886917114), np.float64(25.443182706832886), np.float64(25.218083143234253), np.float64(24.964141964912415), np.float64(24.681398153305054), np.float64(24.37510883808136), np.float64(24.05256998538971), np.float64(23.721863985061646), np.float64(23.38780450820923), np.float64(23.055222749710083), np.float64(22.727868616580963), np.float64(22.407604098320007), np.float64(22.09630513191223), np.float64(21.794573426246643), np.float64(21.502697944641113)]\n"
     ]
    }
   ],
   "execution_count": 155
  },
  {
   "metadata": {
    "ExecuteTime": {
     "end_time": "2025-02-17T04:49:25.774746Z",
     "start_time": "2025-02-17T04:49:25.727599Z"
    }
   },
   "cell_type": "code",
   "source": [
    "# Step 2: Create the plot\n",
    "plt.figure(figsize=(10, 6))\n",
    "\n",
    "# Plot predicted prices\n",
    "plt.plot(predicted_prices, color='red', label='Predicted Prices')\n",
    "\n",
    "# Add labels and title\n",
    "plt.title('Future Stock Price Prediction')\n",
    "plt.xlabel('Time')\n",
    "plt.ylabel('Price')\n",
    "plt.legend()\n",
    "\n",
    "# Display the plot\n",
    "plt.show()"
   ],
   "id": "f3920936e144fb92",
   "outputs": [
    {
     "data": {
      "text/plain": [
       "<Figure size 1000x600 with 1 Axes>"
      ],
      "image/png": "[encoded data removed]"
     },
     "metadata": {},
     "output_type": "display_data"
    }
   ],
   "execution_count": 156
  },
  {
   "metadata": {
    "ExecuteTime": {
     "end_time": "2025-02-17T04:49:25.796310Z",
     "start_time": "2025-02-17T04:49:25.794571Z"
    }
   },
   "cell_type": "code",
   "source": "",
   "id": "579feb77eab8d795",
   "outputs": [],
   "execution_count": null
  }
 ],
 "metadata": {
  "kernelspec": {
   "display_name": "Python (MachineLearning)",
   "language": "python",
   "name": "tf_env"
  },
  "language_info": {
   "codemirror_mode": {
    "name": "ipython",
    "version": 3
   },
   "file_extension": ".py",
   "mimetype": "text/x-python",
   "name": "python",
   "nbconvert_exporter": "python",
   "pygments_lexer": "ipython3",
   "version": "3.12.9"
  }
 },
 "nbformat": 4,
 "nbformat_minor": 5
}
